{
  "nbformat": 4,
  "nbformat_minor": 0,
  "metadata": {
    "colab": {
      "provenance": [],
      "include_colab_link": true
    },
    "kernelspec": {
      "name": "python3",
      "display_name": "Python 3"
    },
    "language_info": {
      "name": "python"
    }
  },
  "cells": [
    {
      "cell_type": "markdown",
      "metadata": {
        "id": "view-in-github",
        "colab_type": "text"
      },
      "source": [
        "<a href=\"https://colab.research.google.com/github/RidhwanSani/RidhwanSani/blob/main/Project_Sentiment_Analysis.ipynb\" target=\"_parent\"><img src=\"https://colab.research.google.com/assets/colab-badge.svg\" alt=\"Open In Colab\"/></a>"
      ]
    },
    {
      "cell_type": "markdown",
      "source": [
        "# PROJECT - Sentiment Analysis"
      ],
      "metadata": {
        "id": "h9iad_hLfdns"
      }
    },
    {
      "cell_type": "markdown",
      "source": [
        "Research Question 2 : <br>\n",
        "To Investigate The Best Model of Sentiment Analysis for Commodity News (Gold) Based on Different Features and Classification Model"
      ],
      "metadata": {
        "id": "1sXc1OWGV_mC"
      }
    },
    {
      "cell_type": "markdown",
      "source": [
        "NAME : MOHD RIDHWAN BIN ABDULLAH SANI<br>\n",
        "MATRIC NO : P127015"
      ],
      "metadata": {
        "id": "SX3gOMolfy9K"
      }
    },
    {
      "cell_type": "code",
      "source": [
        "#import any necessary libraries\n",
        "import pandas as pd\n",
        "\n",
        "import re\n",
        "import numpy as np\n",
        "\n",
        "import seaborn as sns\n",
        "import matplotlib.pyplot as plt\n",
        "\n",
        "from sklearn.metrics import accuracy_score, f1_score, precision_score, recall_score\n",
        "from sklearn import utils\n",
        "from sklearn.model_selection import train_test_split"
      ],
      "metadata": {
        "id": "iQitSaTH70Rc"
      },
      "execution_count": null,
      "outputs": []
    },
    {
      "cell_type": "markdown",
      "source": [
        "READ THE FILE"
      ],
      "metadata": {
        "id": "mtmxwyOOgx53"
      }
    },
    {
      "cell_type": "code",
      "source": [
        "from google.colab import drive\n",
        "drive.mount('/content/drive')"
      ],
      "metadata": {
        "colab": {
          "base_uri": "https://localhost:8080/"
        },
        "id": "caHi3o28YTuJ",
        "outputId": "64abfc5c-6503-466e-85eb-ba23b91462cc"
      },
      "execution_count": null,
      "outputs": [
        {
          "output_type": "stream",
          "name": "stdout",
          "text": [
            "Drive already mounted at /content/drive; to attempt to forcibly remount, call drive.mount(\"/content/drive\", force_remount=True).\n"
          ]
        }
      ]
    },
    {
      "cell_type": "code",
      "source": [
        "df = pd.read_csv('/content/drive/MyDrive/Colab Notebooks/gold dataset.csv')\n",
        "df.head()"
      ],
      "metadata": {
        "id": "G82BcQrX73w5",
        "colab": {
          "base_uri": "https://localhost:8080/",
          "height": 206
        },
        "outputId": "e0834c56-f3bf-4896-975e-2393e8a321a9"
      },
      "execution_count": null,
      "outputs": [
        {
          "output_type": "execute_result",
          "data": {
            "text/plain": [
              "                                                News PriceSentiment\n",
              "0  april gold down 20 cents to settle at $1,116.1...       negative\n",
              "1          gold suffers third straight daily decline       negative\n",
              "2  Gold snaps three-day rally as Trump, lawmakers...       negative\n",
              "3  gold falls by rs 25 on sluggish demand, global...       negative\n",
              "4  gold trades in red in early trade; eyes near-t...       negative"
            ],
            "text/html": [
              "\n",
              "  <div id=\"df-3983e590-4239-4e39-a841-e959da96d0ab\" class=\"colab-df-container\">\n",
              "    <div>\n",
              "<style scoped>\n",
              "    .dataframe tbody tr th:only-of-type {\n",
              "        vertical-align: middle;\n",
              "    }\n",
              "\n",
              "    .dataframe tbody tr th {\n",
              "        vertical-align: top;\n",
              "    }\n",
              "\n",
              "    .dataframe thead th {\n",
              "        text-align: right;\n",
              "    }\n",
              "</style>\n",
              "<table border=\"1\" class=\"dataframe\">\n",
              "  <thead>\n",
              "    <tr style=\"text-align: right;\">\n",
              "      <th></th>\n",
              "      <th>News</th>\n",
              "      <th>PriceSentiment</th>\n",
              "    </tr>\n",
              "  </thead>\n",
              "  <tbody>\n",
              "    <tr>\n",
              "      <th>0</th>\n",
              "      <td>april gold down 20 cents to settle at $1,116.1...</td>\n",
              "      <td>negative</td>\n",
              "    </tr>\n",
              "    <tr>\n",
              "      <th>1</th>\n",
              "      <td>gold suffers third straight daily decline</td>\n",
              "      <td>negative</td>\n",
              "    </tr>\n",
              "    <tr>\n",
              "      <th>2</th>\n",
              "      <td>Gold snaps three-day rally as Trump, lawmakers...</td>\n",
              "      <td>negative</td>\n",
              "    </tr>\n",
              "    <tr>\n",
              "      <th>3</th>\n",
              "      <td>gold falls by rs 25 on sluggish demand, global...</td>\n",
              "      <td>negative</td>\n",
              "    </tr>\n",
              "    <tr>\n",
              "      <th>4</th>\n",
              "      <td>gold trades in red in early trade; eyes near-t...</td>\n",
              "      <td>negative</td>\n",
              "    </tr>\n",
              "  </tbody>\n",
              "</table>\n",
              "</div>\n",
              "    <div class=\"colab-df-buttons\">\n",
              "\n",
              "  <div class=\"colab-df-container\">\n",
              "    <button class=\"colab-df-convert\" onclick=\"convertToInteractive('df-3983e590-4239-4e39-a841-e959da96d0ab')\"\n",
              "            title=\"Convert this dataframe to an interactive table.\"\n",
              "            style=\"display:none;\">\n",
              "\n",
              "  <svg xmlns=\"http://www.w3.org/2000/svg\" height=\"24px\" viewBox=\"0 -960 960 960\">\n",
              "    <path d=\"M120-120v-720h720v720H120Zm60-500h600v-160H180v160Zm220 220h160v-160H400v160Zm0 220h160v-160H400v160ZM180-400h160v-160H180v160Zm440 0h160v-160H620v160ZM180-180h160v-160H180v160Zm440 0h160v-160H620v160Z\"/>\n",
              "  </svg>\n",
              "    </button>\n",
              "\n",
              "  <style>\n",
              "    .colab-df-container {\n",
              "      display:flex;\n",
              "      gap: 12px;\n",
              "    }\n",
              "\n",
              "    .colab-df-convert {\n",
              "      background-color: #E8F0FE;\n",
              "      border: none;\n",
              "      border-radius: 50%;\n",
              "      cursor: pointer;\n",
              "      display: none;\n",
              "      fill: #1967D2;\n",
              "      height: 32px;\n",
              "      padding: 0 0 0 0;\n",
              "      width: 32px;\n",
              "    }\n",
              "\n",
              "    .colab-df-convert:hover {\n",
              "      background-color: #E2EBFA;\n",
              "      box-shadow: 0px 1px 2px rgba(60, 64, 67, 0.3), 0px 1px 3px 1px rgba(60, 64, 67, 0.15);\n",
              "      fill: #174EA6;\n",
              "    }\n",
              "\n",
              "    .colab-df-buttons div {\n",
              "      margin-bottom: 4px;\n",
              "    }\n",
              "\n",
              "    [theme=dark] .colab-df-convert {\n",
              "      background-color: #3B4455;\n",
              "      fill: #D2E3FC;\n",
              "    }\n",
              "\n",
              "    [theme=dark] .colab-df-convert:hover {\n",
              "      background-color: #434B5C;\n",
              "      box-shadow: 0px 1px 3px 1px rgba(0, 0, 0, 0.15);\n",
              "      filter: drop-shadow(0px 1px 2px rgba(0, 0, 0, 0.3));\n",
              "      fill: #FFFFFF;\n",
              "    }\n",
              "  </style>\n",
              "\n",
              "    <script>\n",
              "      const buttonEl =\n",
              "        document.querySelector('#df-3983e590-4239-4e39-a841-e959da96d0ab button.colab-df-convert');\n",
              "      buttonEl.style.display =\n",
              "        google.colab.kernel.accessAllowed ? 'block' : 'none';\n",
              "\n",
              "      async function convertToInteractive(key) {\n",
              "        const element = document.querySelector('#df-3983e590-4239-4e39-a841-e959da96d0ab');\n",
              "        const dataTable =\n",
              "          await google.colab.kernel.invokeFunction('convertToInteractive',\n",
              "                                                    [key], {});\n",
              "        if (!dataTable) return;\n",
              "\n",
              "        const docLinkHtml = 'Like what you see? Visit the ' +\n",
              "          '<a target=\"_blank\" href=https://colab.research.google.com/notebooks/data_table.ipynb>data table notebook</a>'\n",
              "          + ' to learn more about interactive tables.';\n",
              "        element.innerHTML = '';\n",
              "        dataTable['output_type'] = 'display_data';\n",
              "        await google.colab.output.renderOutput(dataTable, element);\n",
              "        const docLink = document.createElement('div');\n",
              "        docLink.innerHTML = docLinkHtml;\n",
              "        element.appendChild(docLink);\n",
              "      }\n",
              "    </script>\n",
              "  </div>\n",
              "\n",
              "\n",
              "<div id=\"df-2df3d441-e688-4f5e-b228-206628ffecf5\">\n",
              "  <button class=\"colab-df-quickchart\" onclick=\"quickchart('df-2df3d441-e688-4f5e-b228-206628ffecf5')\"\n",
              "            title=\"Suggest charts.\"\n",
              "            style=\"display:none;\">\n",
              "\n",
              "<svg xmlns=\"http://www.w3.org/2000/svg\" height=\"24px\"viewBox=\"0 0 24 24\"\n",
              "     width=\"24px\">\n",
              "    <g>\n",
              "        <path d=\"M19 3H5c-1.1 0-2 .9-2 2v14c0 1.1.9 2 2 2h14c1.1 0 2-.9 2-2V5c0-1.1-.9-2-2-2zM9 17H7v-7h2v7zm4 0h-2V7h2v10zm4 0h-2v-4h2v4z\"/>\n",
              "    </g>\n",
              "</svg>\n",
              "  </button>\n",
              "\n",
              "<style>\n",
              "  .colab-df-quickchart {\n",
              "      --bg-color: #E8F0FE;\n",
              "      --fill-color: #1967D2;\n",
              "      --hover-bg-color: #E2EBFA;\n",
              "      --hover-fill-color: #174EA6;\n",
              "      --disabled-fill-color: #AAA;\n",
              "      --disabled-bg-color: #DDD;\n",
              "  }\n",
              "\n",
              "  [theme=dark] .colab-df-quickchart {\n",
              "      --bg-color: #3B4455;\n",
              "      --fill-color: #D2E3FC;\n",
              "      --hover-bg-color: #434B5C;\n",
              "      --hover-fill-color: #FFFFFF;\n",
              "      --disabled-bg-color: #3B4455;\n",
              "      --disabled-fill-color: #666;\n",
              "  }\n",
              "\n",
              "  .colab-df-quickchart {\n",
              "    background-color: var(--bg-color);\n",
              "    border: none;\n",
              "    border-radius: 50%;\n",
              "    cursor: pointer;\n",
              "    display: none;\n",
              "    fill: var(--fill-color);\n",
              "    height: 32px;\n",
              "    padding: 0;\n",
              "    width: 32px;\n",
              "  }\n",
              "\n",
              "  .colab-df-quickchart:hover {\n",
              "    background-color: var(--hover-bg-color);\n",
              "    box-shadow: 0 1px 2px rgba(60, 64, 67, 0.3), 0 1px 3px 1px rgba(60, 64, 67, 0.15);\n",
              "    fill: var(--button-hover-fill-color);\n",
              "  }\n",
              "\n",
              "  .colab-df-quickchart-complete:disabled,\n",
              "  .colab-df-quickchart-complete:disabled:hover {\n",
              "    background-color: var(--disabled-bg-color);\n",
              "    fill: var(--disabled-fill-color);\n",
              "    box-shadow: none;\n",
              "  }\n",
              "\n",
              "  .colab-df-spinner {\n",
              "    border: 2px solid var(--fill-color);\n",
              "    border-color: transparent;\n",
              "    border-bottom-color: var(--fill-color);\n",
              "    animation:\n",
              "      spin 1s steps(1) infinite;\n",
              "  }\n",
              "\n",
              "  @keyframes spin {\n",
              "    0% {\n",
              "      border-color: transparent;\n",
              "      border-bottom-color: var(--fill-color);\n",
              "      border-left-color: var(--fill-color);\n",
              "    }\n",
              "    20% {\n",
              "      border-color: transparent;\n",
              "      border-left-color: var(--fill-color);\n",
              "      border-top-color: var(--fill-color);\n",
              "    }\n",
              "    30% {\n",
              "      border-color: transparent;\n",
              "      border-left-color: var(--fill-color);\n",
              "      border-top-color: var(--fill-color);\n",
              "      border-right-color: var(--fill-color);\n",
              "    }\n",
              "    40% {\n",
              "      border-color: transparent;\n",
              "      border-right-color: var(--fill-color);\n",
              "      border-top-color: var(--fill-color);\n",
              "    }\n",
              "    60% {\n",
              "      border-color: transparent;\n",
              "      border-right-color: var(--fill-color);\n",
              "    }\n",
              "    80% {\n",
              "      border-color: transparent;\n",
              "      border-right-color: var(--fill-color);\n",
              "      border-bottom-color: var(--fill-color);\n",
              "    }\n",
              "    90% {\n",
              "      border-color: transparent;\n",
              "      border-bottom-color: var(--fill-color);\n",
              "    }\n",
              "  }\n",
              "</style>\n",
              "\n",
              "  <script>\n",
              "    async function quickchart(key) {\n",
              "      const quickchartButtonEl =\n",
              "        document.querySelector('#' + key + ' button');\n",
              "      quickchartButtonEl.disabled = true;  // To prevent multiple clicks.\n",
              "      quickchartButtonEl.classList.add('colab-df-spinner');\n",
              "      try {\n",
              "        const charts = await google.colab.kernel.invokeFunction(\n",
              "            'suggestCharts', [key], {});\n",
              "      } catch (error) {\n",
              "        console.error('Error during call to suggestCharts:', error);\n",
              "      }\n",
              "      quickchartButtonEl.classList.remove('colab-df-spinner');\n",
              "      quickchartButtonEl.classList.add('colab-df-quickchart-complete');\n",
              "    }\n",
              "    (() => {\n",
              "      let quickchartButtonEl =\n",
              "        document.querySelector('#df-2df3d441-e688-4f5e-b228-206628ffecf5 button');\n",
              "      quickchartButtonEl.style.display =\n",
              "        google.colab.kernel.accessAllowed ? 'block' : 'none';\n",
              "    })();\n",
              "  </script>\n",
              "</div>\n",
              "    </div>\n",
              "  </div>\n"
            ]
          },
          "metadata": {},
          "execution_count": 7
        }
      ]
    },
    {
      "cell_type": "code",
      "source": [
        "df.shape"
      ],
      "metadata": {
        "colab": {
          "base_uri": "https://localhost:8080/"
        },
        "id": "bTHfHnMuLUSd",
        "outputId": "c151b6b8-5682-41a0-f3e0-be965ea35cf8"
      },
      "execution_count": null,
      "outputs": [
        {
          "output_type": "execute_result",
          "data": {
            "text/plain": [
              "(7628, 2)"
            ]
          },
          "metadata": {},
          "execution_count": 8
        }
      ]
    },
    {
      "cell_type": "code",
      "source": [
        "df.info()"
      ],
      "metadata": {
        "colab": {
          "base_uri": "https://localhost:8080/"
        },
        "id": "A38wwoqULXpV",
        "outputId": "2065d213-8ded-4ad7-9186-ad6dda661d18"
      },
      "execution_count": null,
      "outputs": [
        {
          "output_type": "stream",
          "name": "stdout",
          "text": [
            "<class 'pandas.core.frame.DataFrame'>\n",
            "RangeIndex: 7628 entries, 0 to 7627\n",
            "Data columns (total 2 columns):\n",
            " #   Column          Non-Null Count  Dtype \n",
            "---  ------          --------------  ----- \n",
            " 0   News            7628 non-null   object\n",
            " 1   PriceSentiment  7628 non-null   object\n",
            "dtypes: object(2)\n",
            "memory usage: 119.3+ KB\n"
          ]
        }
      ]
    },
    {
      "cell_type": "code",
      "source": [
        "df.index = range(7628)\n",
        "df['News'].apply(lambda x: len(x.split(' '))).sum()"
      ],
      "metadata": {
        "colab": {
          "base_uri": "https://localhost:8080/"
        },
        "id": "7UAWua98LgXj",
        "outputId": "af552f6d-b874-445c-ed29-bacc2be15983"
      },
      "execution_count": null,
      "outputs": [
        {
          "output_type": "execute_result",
          "data": {
            "text/plain": [
              "68133"
            ]
          },
          "metadata": {},
          "execution_count": 10
        }
      ]
    },
    {
      "cell_type": "markdown",
      "source": [
        "DATA VISUALISATION"
      ],
      "metadata": {
        "id": "iDKdeA7ihKHb"
      }
    },
    {
      "cell_type": "code",
      "source": [
        "cnt_pro = df['PriceSentiment'].value_counts()\n",
        "plt.figure(figsize=(12,4))\n",
        "sns.barplot(x = cnt_pro.index, y = cnt_pro.values, alpha=0.8)\n",
        "plt.ylabel('News', fontsize=12)\n",
        "plt.xlabel('Price Sentiment', fontsize=12)\n",
        "plt.xticks(rotation=90)\n",
        "plt.show();"
      ],
      "metadata": {
        "colab": {
          "base_uri": "https://localhost:8080/",
          "height": 324
        },
        "id": "B5bUvdoeLrHc",
        "outputId": "19088ed1-d11e-46dd-d670-24aad300b9b9"
      },
      "execution_count": null,
      "outputs": [
        {
          "output_type": "display_data",
          "data": {
            "text/plain": [
              "<Figure size 1200x400 with 1 Axes>"
            ],
            "image/png": "[encoded data removed]"
          },
          "metadata": {}
        }
      ]
    },
    {
      "cell_type": "markdown",
      "source": [
        "PRE-PROCESSING"
      ],
      "metadata": {
        "id": "ZrGZn8bnMAye"
      }
    },
    {
      "cell_type": "code",
      "source": [
        "def cleanText(text):\n",
        "    text = text.lower() # make all words into lowercase\n",
        "    text = re.sub(r'[^\\w\\s]', '', text) #remove non-alphanumeric characters but preserve the whitespace ; \\W is equivalent of [^a-zA-Z0-9_]\n",
        "    return text\n",
        "\n",
        "df['News'] = df['News'].apply(cleanText)\n",
        "df.head()"
      ],
      "metadata": {
        "colab": {
          "base_uri": "https://localhost:8080/",
          "height": 206
        },
        "id": "xPLIY2szMDy7",
        "outputId": "d53a35ff-fa99-4720-877f-0569c32760cc"
      },
      "execution_count": null,
      "outputs": [
        {
          "output_type": "execute_result",
          "data": {
            "text/plain": [
              "                                                News PriceSentiment\n",
              "0     april gold down 20 cents to settle at 111610oz       negative\n",
              "1          gold suffers third straight daily decline       negative\n",
              "2  gold snaps threeday rally as trump lawmakers r...       negative\n",
              "3  gold falls by rs 25 on sluggish demand global ...       negative\n",
              "4  gold trades in red in early trade eyes nearter...       negative"
            ],
            "text/html": [
              "\n",
              "  <div id=\"df-d5a865ba-f1bf-48b6-a30c-5601b2cfaf47\" class=\"colab-df-container\">\n",
              "    <div>\n",
              "<style scoped>\n",
              "    .dataframe tbody tr th:only-of-type {\n",
              "        vertical-align: middle;\n",
              "    }\n",
              "\n",
              "    .dataframe tbody tr th {\n",
              "        vertical-align: top;\n",
              "    }\n",
              "\n",
              "    .dataframe thead th {\n",
              "        text-align: right;\n",
              "    }\n",
              "</style>\n",
              "<table border=\"1\" class=\"dataframe\">\n",
              "  <thead>\n",
              "    <tr style=\"text-align: right;\">\n",
              "      <th></th>\n",
              "      <th>News</th>\n",
              "      <th>PriceSentiment</th>\n",
              "    </tr>\n",
              "  </thead>\n",
              "  <tbody>\n",
              "    <tr>\n",
              "      <th>0</th>\n",
              "      <td>april gold down 20 cents to settle at 111610oz</td>\n",
              "      <td>negative</td>\n",
              "    </tr>\n",
              "    <tr>\n",
              "      <th>1</th>\n",
              "      <td>gold suffers third straight daily decline</td>\n",
              "      <td>negative</td>\n",
              "    </tr>\n",
              "    <tr>\n",
              "      <th>2</th>\n",
              "      <td>gold snaps threeday rally as trump lawmakers r...</td>\n",
              "      <td>negative</td>\n",
              "    </tr>\n",
              "    <tr>\n",
              "      <th>3</th>\n",
              "      <td>gold falls by rs 25 on sluggish demand global ...</td>\n",
              "      <td>negative</td>\n",
              "    </tr>\n",
              "    <tr>\n",
              "      <th>4</th>\n",
              "      <td>gold trades in red in early trade eyes nearter...</td>\n",
              "      <td>negative</td>\n",
              "    </tr>\n",
              "  </tbody>\n",
              "</table>\n",
              "</div>\n",
              "    <div class=\"colab-df-buttons\">\n",
              "\n",
              "  <div class=\"colab-df-container\">\n",
              "    <button class=\"colab-df-convert\" onclick=\"convertToInteractive('df-d5a865ba-f1bf-48b6-a30c-5601b2cfaf47')\"\n",
              "            title=\"Convert this dataframe to an interactive table.\"\n",
              "            style=\"display:none;\">\n",
              "\n",
              "  <svg xmlns=\"http://www.w3.org/2000/svg\" height=\"24px\" viewBox=\"0 -960 960 960\">\n",
              "    <path d=\"M120-120v-720h720v720H120Zm60-500h600v-160H180v160Zm220 220h160v-160H400v160Zm0 220h160v-160H400v160ZM180-400h160v-160H180v160Zm440 0h160v-160H620v160ZM180-180h160v-160H180v160Zm440 0h160v-160H620v160Z\"/>\n",
              "  </svg>\n",
              "    </button>\n",
              "\n",
              "  <style>\n",
              "    .colab-df-container {\n",
              "      display:flex;\n",
              "      gap: 12px;\n",
              "    }\n",
              "\n",
              "    .colab-df-convert {\n",
              "      background-color: #E8F0FE;\n",
              "      border: none;\n",
              "      border-radius: 50%;\n",
              "      cursor: pointer;\n",
              "      display: none;\n",
              "      fill: #1967D2;\n",
              "      height: 32px;\n",
              "      padding: 0 0 0 0;\n",
              "      width: 32px;\n",
              "    }\n",
              "\n",
              "    .colab-df-convert:hover {\n",
              "      background-color: #E2EBFA;\n",
              "      box-shadow: 0px 1px 2px rgba(60, 64, 67, 0.3), 0px 1px 3px 1px rgba(60, 64, 67, 0.15);\n",
              "      fill: #174EA6;\n",
              "    }\n",
              "\n",
              "    .colab-df-buttons div {\n",
              "      margin-bottom: 4px;\n",
              "    }\n",
              "\n",
              "    [theme=dark] .colab-df-convert {\n",
              "      background-color: #3B4455;\n",
              "      fill: #D2E3FC;\n",
              "    }\n",
              "\n",
              "    [theme=dark] .colab-df-convert:hover {\n",
              "      background-color: #434B5C;\n",
              "      box-shadow: 0px 1px 3px 1px rgba(0, 0, 0, 0.15);\n",
              "      filter: drop-shadow(0px 1px 2px rgba(0, 0, 0, 0.3));\n",
              "      fill: #FFFFFF;\n",
              "    }\n",
              "  </style>\n",
              "\n",
              "    <script>\n",
              "      const buttonEl =\n",
              "        document.querySelector('#df-d5a865ba-f1bf-48b6-a30c-5601b2cfaf47 button.colab-df-convert');\n",
              "      buttonEl.style.display =\n",
              "        google.colab.kernel.accessAllowed ? 'block' : 'none';\n",
              "\n",
              "      async function convertToInteractive(key) {\n",
              "        const element = document.querySelector('#df-d5a865ba-f1bf-48b6-a30c-5601b2cfaf47');\n",
              "        const dataTable =\n",
              "          await google.colab.kernel.invokeFunction('convertToInteractive',\n",
              "                                                    [key], {});\n",
              "        if (!dataTable) return;\n",
              "\n",
              "        const docLinkHtml = 'Like what you see? Visit the ' +\n",
              "          '<a target=\"_blank\" href=https://colab.research.google.com/notebooks/data_table.ipynb>data table notebook</a>'\n",
              "          + ' to learn more about interactive tables.';\n",
              "        element.innerHTML = '';\n",
              "        dataTable['output_type'] = 'display_data';\n",
              "        await google.colab.output.renderOutput(dataTable, element);\n",
              "        const docLink = document.createElement('div');\n",
              "        docLink.innerHTML = docLinkHtml;\n",
              "        element.appendChild(docLink);\n",
              "      }\n",
              "    </script>\n",
              "  </div>\n",
              "\n",
              "\n",
              "<div id=\"df-dfebe056-3d7f-4580-961e-fe02efde1a24\">\n",
              "  <button class=\"colab-df-quickchart\" onclick=\"quickchart('df-dfebe056-3d7f-4580-961e-fe02efde1a24')\"\n",
              "            title=\"Suggest charts.\"\n",
              "            style=\"display:none;\">\n",
              "\n",
              "<svg xmlns=\"http://www.w3.org/2000/svg\" height=\"24px\"viewBox=\"0 0 24 24\"\n",
              "     width=\"24px\">\n",
              "    <g>\n",
              "        <path d=\"M19 3H5c-1.1 0-2 .9-2 2v14c0 1.1.9 2 2 2h14c1.1 0 2-.9 2-2V5c0-1.1-.9-2-2-2zM9 17H7v-7h2v7zm4 0h-2V7h2v10zm4 0h-2v-4h2v4z\"/>\n",
              "    </g>\n",
              "</svg>\n",
              "  </button>\n",
              "\n",
              "<style>\n",
              "  .colab-df-quickchart {\n",
              "      --bg-color: #E8F0FE;\n",
              "      --fill-color: #1967D2;\n",
              "      --hover-bg-color: #E2EBFA;\n",
              "      --hover-fill-color: #174EA6;\n",
              "      --disabled-fill-color: #AAA;\n",
              "      --disabled-bg-color: #DDD;\n",
              "  }\n",
              "\n",
              "  [theme=dark] .colab-df-quickchart {\n",
              "      --bg-color: #3B4455;\n",
              "      --fill-color: #D2E3FC;\n",
              "      --hover-bg-color: #434B5C;\n",
              "      --hover-fill-color: #FFFFFF;\n",
              "      --disabled-bg-color: #3B4455;\n",
              "      --disabled-fill-color: #666;\n",
              "  }\n",
              "\n",
              "  .colab-df-quickchart {\n",
              "    background-color: var(--bg-color);\n",
              "    border: none;\n",
              "    border-radius: 50%;\n",
              "    cursor: pointer;\n",
              "    display: none;\n",
              "    fill: var(--fill-color);\n",
              "    height: 32px;\n",
              "    padding: 0;\n",
              "    width: 32px;\n",
              "  }\n",
              "\n",
              "  .colab-df-quickchart:hover {\n",
              "    background-color: var(--hover-bg-color);\n",
              "    box-shadow: 0 1px 2px rgba(60, 64, 67, 0.3), 0 1px 3px 1px rgba(60, 64, 67, 0.15);\n",
              "    fill: var(--button-hover-fill-color);\n",
              "  }\n",
              "\n",
              "  .colab-df-quickchart-complete:disabled,\n",
              "  .colab-df-quickchart-complete:disabled:hover {\n",
              "    background-color: var(--disabled-bg-color);\n",
              "    fill: var(--disabled-fill-color);\n",
              "    box-shadow: none;\n",
              "  }\n",
              "\n",
              "  .colab-df-spinner {\n",
              "    border: 2px solid var(--fill-color);\n",
              "    border-color: transparent;\n",
              "    border-bottom-color: var(--fill-color);\n",
              "    animation:\n",
              "      spin 1s steps(1) infinite;\n",
              "  }\n",
              "\n",
              "  @keyframes spin {\n",
              "    0% {\n",
              "      border-color: transparent;\n",
              "      border-bottom-color: var(--fill-color);\n",
              "      border-left-color: var(--fill-color);\n",
              "    }\n",
              "    20% {\n",
              "      border-color: transparent;\n",
              "      border-left-color: var(--fill-color);\n",
              "      border-top-color: var(--fill-color);\n",
              "    }\n",
              "    30% {\n",
              "      border-color: transparent;\n",
              "      border-left-color: var(--fill-color);\n",
              "      border-top-color: var(--fill-color);\n",
              "      border-right-color: var(--fill-color);\n",
              "    }\n",
              "    40% {\n",
              "      border-color: transparent;\n",
              "      border-right-color: var(--fill-color);\n",
              "      border-top-color: var(--fill-color);\n",
              "    }\n",
              "    60% {\n",
              "      border-color: transparent;\n",
              "      border-right-color: var(--fill-color);\n",
              "    }\n",
              "    80% {\n",
              "      border-color: transparent;\n",
              "      border-right-color: var(--fill-color);\n",
              "      border-bottom-color: var(--fill-color);\n",
              "    }\n",
              "    90% {\n",
              "      border-color: transparent;\n",
              "      border-bottom-color: var(--fill-color);\n",
              "    }\n",
              "  }\n",
              "</style>\n",
              "\n",
              "  <script>\n",
              "    async function quickchart(key) {\n",
              "      const quickchartButtonEl =\n",
              "        document.querySelector('#' + key + ' button');\n",
              "      quickchartButtonEl.disabled = true;  // To prevent multiple clicks.\n",
              "      quickchartButtonEl.classList.add('colab-df-spinner');\n",
              "      try {\n",
              "        const charts = await google.colab.kernel.invokeFunction(\n",
              "            'suggestCharts', [key], {});\n",
              "      } catch (error) {\n",
              "        console.error('Error during call to suggestCharts:', error);\n",
              "      }\n",
              "      quickchartButtonEl.classList.remove('colab-df-spinner');\n",
              "      quickchartButtonEl.classList.add('colab-df-quickchart-complete');\n",
              "    }\n",
              "    (() => {\n",
              "      let quickchartButtonEl =\n",
              "        document.querySelector('#df-dfebe056-3d7f-4580-961e-fe02efde1a24 button');\n",
              "      quickchartButtonEl.style.display =\n",
              "        google.colab.kernel.accessAllowed ? 'block' : 'none';\n",
              "    })();\n",
              "  </script>\n",
              "</div>\n",
              "    </div>\n",
              "  </div>\n"
            ]
          },
          "metadata": {},
          "execution_count": 12
        }
      ]
    },
    {
      "cell_type": "code",
      "source": [
        "#The following steps include:\n",
        "# 1. train/test split of 80/20 (put test_size = 0.2)\n",
        "# 2. tag every requirement (crowd feedback) with its class function.\n",
        "\n",
        "import nltk\n",
        "from gensim.models.doc2vec import TaggedDocument\n",
        "\n",
        "nltk.download('punkt')\n",
        "\n",
        "train, test = train_test_split(df, test_size=0.2, random_state=42) #train/test split of 80/20 (put test_size = 0.2)\n",
        "\n",
        "def tokenize_text(text):\n",
        "    tokens = []\n",
        "    for sent in nltk.sent_tokenize(text):\n",
        "        for word in nltk.word_tokenize(sent):\n",
        "            if len(word) < 2:\n",
        "                continue\n",
        "            tokens.append(word.lower())\n",
        "    return tokens\n",
        "\n",
        "train_tagged = train.apply(lambda r: TaggedDocument(words=tokenize_text(r['News']), tags=[r.PriceSentiment]), axis=1)\n",
        "test_tagged = test.apply(lambda r: TaggedDocument(words=tokenize_text(r['News']), tags=[r.PriceSentiment]), axis=1)"
      ],
      "metadata": {
        "colab": {
          "base_uri": "https://localhost:8080/"
        },
        "id": "HXg-WSWAMSIk",
        "outputId": "8a284710-9dfa-4560-8ed9-f56bc8ad1dca"
      },
      "execution_count": null,
      "outputs": [
        {
          "output_type": "stream",
          "name": "stderr",
          "text": [
            "[nltk_data] Downloading package punkt to /root/nltk_data...\n",
            "[nltk_data]   Unzipping tokenizers/punkt.zip.\n"
          ]
        }
      ]
    },
    {
      "cell_type": "code",
      "source": [
        "#Building the Final Vector Feature for the Classifier\n",
        "def vec_for_learning(model, tagged_docs):\n",
        "    sents = tagged_docs.values\n",
        "    targets, regressors = zip(*[(doc.tags[0], model.infer_vector(doc.words, steps=20)) for doc in sents])\n",
        "    return targets, regressors"
      ],
      "metadata": {
        "id": "wiziAmuHSFVa"
      },
      "execution_count": null,
      "outputs": []
    },
    {
      "cell_type": "markdown",
      "source": [
        "IMPORT CLASSIFIER AND EVALUATION MATRICS"
      ],
      "metadata": {
        "id": "3MUVtHQHh-zH"
      }
    },
    {
      "cell_type": "code",
      "source": [
        "from sklearn.naive_bayes import MultinomialNB\n",
        "from sklearn.naive_bayes import GaussianNB\n",
        "from sklearn import svm\n",
        "from sklearn.linear_model import LogisticRegression"
      ],
      "metadata": {
        "id": "e_3IJtnpShqP"
      },
      "execution_count": null,
      "outputs": []
    },
    {
      "cell_type": "code",
      "source": [
        "#These are the evaluation metrics to evaluate our classifier\n",
        "from sklearn.metrics import accuracy_score, f1_score, precision_score, recall_score"
      ],
      "metadata": {
        "id": "mAPcr6I2SnY8"
      },
      "execution_count": null,
      "outputs": []
    },
    {
      "cell_type": "markdown",
      "source": [
        "FEATURE BAG OF WORDS"
      ],
      "metadata": {
        "id": "Bm_ppWD3Sqh-"
      }
    },
    {
      "cell_type": "code",
      "source": [
        "#split-data-train-test; #train/test split of 80/20 (put test_size = 0.2)\n",
        "from sklearn.model_selection import train_test_split\n",
        "\n",
        "sentences = df['News'].values\n",
        "y = df['PriceSentiment'].values\n",
        "sentences_train, sentences_test, y_train, y_test = train_test_split(sentences,y, test_size=0.2, random_state=42)"
      ],
      "metadata": {
        "id": "exaD36VeSu9N"
      },
      "execution_count": null,
      "outputs": []
    },
    {
      "cell_type": "code",
      "source": [
        "#countvectorizer is feature extraction of a bag-of-word feature\n",
        "from sklearn.feature_extraction.text import CountVectorizer\n",
        "\n",
        "#extract feature bag-of-words and fit into model for training\n",
        "BOW = CountVectorizer()\n",
        "BOW.fit(sentences_train)\n",
        "\n",
        "X_train = BOW.transform(sentences_train)\n",
        "X_test  = BOW.transform(sentences_test)"
      ],
      "metadata": {
        "id": "M1W76vA5S7ZW"
      },
      "execution_count": null,
      "outputs": []
    },
    {
      "cell_type": "code",
      "source": [
        "#NB use MultinomialNB()\n",
        "cNB = MultinomialNB()\n",
        "cNB.fit(X_train, y_train)\n",
        "y_pred_NB = cNB.predict(X_test)\n",
        "\n",
        "#report\n",
        "print('Testing accuracy NB (BOW): %s' % accuracy_score(y_test, y_pred_NB))\n",
        "print('Testing F1 score NB (BOW): {}'.format(f1_score(y_test, y_pred_NB, average='macro')))\n",
        "print('Testing Precision score NB (BOW): {}'.format(precision_score(y_test, y_pred_NB, labels=np.unique(y_pred_NB), average='macro')))\n",
        "print('Testing Recall score NB(BOW): {}'.format(recall_score(y_test, y_pred_NB, average='macro')))"
      ],
      "metadata": {
        "colab": {
          "base_uri": "https://localhost:8080/"
        },
        "id": "Q33g4u90TDcQ",
        "outputId": "05f96dff-4e98-42c3-a165-2e6722c85212"
      },
      "execution_count": null,
      "outputs": [
        {
          "output_type": "stream",
          "name": "stdout",
          "text": [
            "Testing accuracy NB (BOW): 0.9318479685452162\n",
            "Testing F1 score NB (BOW): 0.9318450417766051\n",
            "Testing Precision score NB (BOW): 0.931840980610408\n",
            "Testing Recall score NB(BOW): 0.931900331221396\n"
          ]
        }
      ]
    },
    {
      "cell_type": "code",
      "source": [
        "#SVM\n",
        "clf = svm.SVC(gamma='scale')\n",
        "clf.fit(X_train, y_train)\n",
        "y_pred_SVM = clf.predict(X_test)\n",
        "\n",
        "#report\n",
        "print('Testing accuracy SVM (BOW):%s' % accuracy_score(y_test, y_pred_SVM))\n",
        "print('Testing F1 score SVM (BOW): {}'.format(f1_score(y_test, y_pred_SVM, average='macro')))\n",
        "print('Testing Precision score SVM (BOW): {}'.format(precision_score(y_test, y_pred_SVM, labels=np.unique(y_pred_SVM), average='macro')))\n",
        "print('Testing Recall score SVM (BOW): {}'.format(recall_score(y_test, y_pred_SVM, average='macro')))"
      ],
      "metadata": {
        "colab": {
          "base_uri": "https://localhost:8080/"
        },
        "id": "eeV8b9mdZeDK",
        "outputId": "1c09bc99-4c90-4b0b-96ec-d66ffd21b4e5"
      },
      "execution_count": null,
      "outputs": [
        {
          "output_type": "stream",
          "name": "stdout",
          "text": [
            "Testing accuracy SVM (BOW):0.9429882044560943\n",
            "Testing F1 score SVM (BOW): 0.9429881799735902\n",
            "Testing Precision score SVM (BOW): 0.9431416206669656\n",
            "Testing Recall score SVM (BOW): 0.9431271560313904\n"
          ]
        }
      ]
    },
    {
      "cell_type": "code",
      "source": [
        "#LogisticRegression classifier\n",
        "logreg = LogisticRegression(n_jobs=1, C=1e5,solver='lbfgs', max_iter=1000)\n",
        "logreg.fit(X_train, y_train)\n",
        "y_pred = logreg.predict(X_test)\n",
        "\n",
        "#report\n",
        "print('Testing accuracy LR (BOW): %s' % accuracy_score(y_test, y_pred))\n",
        "print('Testing F1 score LR (BOW): {}'.format(f1_score(y_test, y_pred, average='macro')))\n",
        "print('Testing Precision score LR (BOW): {}'.format(precision_score(y_test, y_pred, average='macro')))\n",
        "print('Testing Recall score LR(BOW): {}'.format(recall_score(y_test, y_pred, average='macro')))"
      ],
      "metadata": {
        "colab": {
          "base_uri": "https://localhost:8080/"
        },
        "id": "4Edi8g6EZ4Ht",
        "outputId": "a6e13b5d-33ab-49cf-9776-e62fb819e6ff"
      },
      "execution_count": null,
      "outputs": [
        {
          "output_type": "stream",
          "name": "stdout",
          "text": [
            "Testing accuracy LR (BOW): 0.9121887287024901\n",
            "Testing F1 score LR (BOW): 0.9121813371813372\n",
            "Testing Precision score LR (BOW): 0.9121677797933158\n",
            "Testing Recall score LR(BOW): 0.9122074325531535\n"
          ]
        }
      ]
    },
    {
      "cell_type": "markdown",
      "source": [
        "FEATURE-TF-IDF"
      ],
      "metadata": {
        "id": "_fUtUJZHTLsE"
      }
    },
    {
      "cell_type": "code",
      "source": [
        "#split-data-train-test\n",
        "from sklearn.model_selection import train_test_split\n",
        "\n",
        "sentences = df['News'].values\n",
        "y = df['PriceSentiment'].values\n",
        "sentences_train, sentences_test, yy_train, yy_test = train_test_split(sentences,y, test_size=0.2, random_state=42) #_test and _train are modified"
      ],
      "metadata": {
        "id": "rbWLyX-QT5H8"
      },
      "execution_count": null,
      "outputs": []
    },
    {
      "cell_type": "code",
      "source": [
        "#TfidfVectorizer is feature extraction of a TFIDF\n",
        "from sklearn.feature_extraction.text import TfidfVectorizer\n",
        "\n",
        "TFIDF = TfidfVectorizer()\n",
        "TFIDF.fit(sentences_train)\n",
        "XX_train = TFIDF.transform(sentences_train) #_test and _train are modified\n",
        "XX_test  = TFIDF.transform(sentences_test) #_test and _train are modified"
      ],
      "metadata": {
        "id": "0Ax19kRMTPEp"
      },
      "execution_count": null,
      "outputs": []
    },
    {
      "cell_type": "code",
      "source": [
        "#NB use MultinomialNB()\n",
        "cNB = MultinomialNB()\n",
        "cNB.fit(XX_train, yy_train)\n",
        "yy_pred_NB = cNB.predict(X_test)\n",
        "\n",
        "#report\n",
        "print('Testing accuracy NB (TFIDF): %s' % accuracy_score(yy_test, yy_pred_NB))\n",
        "print('Testing F1 score NB (TFIDF): {}'.format(f1_score(yy_test, yy_pred_NB, average='macro')))\n",
        "print('Testing Precision score NB (TFIDF): {}'.format(precision_score(yy_test, yy_pred_NB, labels=np.unique(yy_pred_NB), average='macro')))\n",
        "print('Testing Recall score NB(TFIDF): {}'.format(recall_score(yy_test, yy_pred_NB, average='macro')))"
      ],
      "metadata": {
        "colab": {
          "base_uri": "https://localhost:8080/"
        },
        "id": "-vazDGUJTsPX",
        "outputId": "f0878112-764e-408d-d595-f36480bdc224"
      },
      "execution_count": null,
      "outputs": [
        {
          "output_type": "stream",
          "name": "stdout",
          "text": [
            "Testing accuracy NB (TFIDF): 0.9331585845347313\n",
            "Testing F1 score NB (TFIDF): 0.9331544509588017\n",
            "Testing Precision score NB (TFIDF): 0.9331420915212313\n",
            "Testing Recall score NB(TFIDF): 0.9331956680089608\n"
          ]
        }
      ]
    },
    {
      "cell_type": "code",
      "source": [
        "#SVM\n",
        "clf = svm.SVC(gamma='scale')\n",
        "clf.fit(XX_train, yy_train)\n",
        "yy_pred_SVM = clf.predict(XX_test)\n",
        "\n",
        "#report\n",
        "print('Testing accuracy SVM (TFIDF):%s' % accuracy_score(yy_test, yy_pred_SVM))\n",
        "print('Testing F1 score SVM (TFIDF): {}'.format(f1_score(yy_test, yy_pred_SVM, average='macro')))\n",
        "print('Testing Precision score SVM (TFIDF): {}'.format(precision_score(yy_test, yy_pred_SVM, labels=np.unique(yy_pred_SVM), average='macro')))\n",
        "print('Testing Recall score SVM (TFIDF): {}'.format(recall_score(yy_test, yy_pred_SVM, average='macro')))"
      ],
      "metadata": {
        "colab": {
          "base_uri": "https://localhost:8080/"
        },
        "id": "xD9-94FcbBzE",
        "outputId": "c5e59e69-0bba-4b4e-b2ac-1990831ae183"
      },
      "execution_count": null,
      "outputs": [
        {
          "output_type": "stream",
          "name": "stdout",
          "text": [
            "Testing accuracy SVM (TFIDF):0.944954128440367\n",
            "Testing F1 score SVM (TFIDF): 0.9449532774494984\n",
            "Testing Precision score SVM (TFIDF): 0.9452421538842225\n",
            "Testing Recall score SVM (TFIDF): 0.9451320075315073\n"
          ]
        }
      ]
    },
    {
      "cell_type": "code",
      "source": [
        "#LR\n",
        "logreg = LogisticRegression(n_jobs=1, C=1e5,solver='lbfgs', max_iter=1000)\n",
        "logreg.fit(XX_train, yy_train)\n",
        "yy_pred = logreg.predict(XX_test)\n",
        "\n",
        "#report\n",
        "print('Testing accuracy LR (TFIDF): %s' % accuracy_score(yy_test, yy_pred))\n",
        "print('Testing F1 score LR (TFIDF): {}'.format(f1_score(yy_test, yy_pred, average='macro')))\n",
        "print('Testing Precision score LR (TFIDF): {}'.format(precision_score(yy_test, yy_pred, average='macro')))\n",
        "print('Testing Recall score LR(TFIDF): {}'.format(recall_score(yy_test, yy_pred, average='macro')))"
      ],
      "metadata": {
        "colab": {
          "base_uri": "https://localhost:8080/"
        },
        "id": "jtu8zpBvbaPE",
        "outputId": "45d6a587-2108-44ec-93fa-752f49d06acf"
      },
      "execution_count": null,
      "outputs": [
        {
          "output_type": "stream",
          "name": "stdout",
          "text": [
            "Testing accuracy LR (TFIDF): 0.90956749672346\n",
            "Testing F1 score LR (TFIDF): 0.9095575540495271\n",
            "Testing Precision score LR (TFIDF): 0.9095478595478595\n",
            "Testing Recall score LR(TFIDF): 0.9095703742389467\n"
          ]
        }
      ]
    },
    {
      "cell_type": "markdown",
      "source": [
        "# REPORT\n"
      ],
      "metadata": {
        "id": "rdrthU8KVvl1"
      }
    },
    {
      "cell_type": "code",
      "source": [
        "# Plotting the chart with the metric values for BoW and TF-IDF features\n",
        "import matplotlib.pyplot as plt\n",
        "import numpy as np\n",
        "\n",
        "# metric values for BoW and TF-IDF features\n",
        "metrics_bow = {\n",
        "    'NB': [0.9318450417766051, 0.931840980610408, 0.931900331221396],\n",
        "    'SVM': [0.9429881799735902, 0.9431416206669656, 0.9431271560313904],\n",
        "    'LR': [0.9121813371813372, 0.9121677797933158, 0.9122074325531535]\n",
        "}\n",
        "\n",
        "metrics_tfidf = {\n",
        "    'NB': [0.9331544509588017, 0.9331420915212313, 0.9331956680089608],\n",
        "    'SVM': [0.9449532774494984, 0.9452421538842225, 0.9451320075315073],\n",
        "    'LR': [0.9095575540495271, 0.9095478595478595, 0.9095703742389467]\n",
        "}\n",
        "\n",
        "# Labels for the metrics and classifiers\n",
        "metric_labels = ['F1 Score', 'Precision', 'Recall']\n",
        "classifiers = ['NB', 'SVM', 'LR']\n",
        "\n",
        "# Create subplots\n",
        "fig, axs = plt.subplots(1, 2, figsize=(15, 6))\n",
        "\n",
        "# Function to plot metrics\n",
        "def plot_metrics(ax, metrics, feature_type):\n",
        "    x = np.arange(len(metric_labels))  # the label locations\n",
        "    width = 0.2  # the width of the bars\n",
        "\n",
        "    for i, (clf, scores) in enumerate(metrics.items()):\n",
        "        ax.bar(x + i * width, scores, width, label=clf)\n",
        "\n",
        "    ax.set_ylim([0.8, 1])  # Set y-axis limits to make differences more visible\n",
        "    ax.set_ylabel('Scores')\n",
        "    ax.set_title(f'Metrics by Classifier using {feature_type}')\n",
        "    ax.set_xticks(x + width / 2)\n",
        "    ax.set_xticklabels(metric_labels)\n",
        "    ax.legend()\n",
        "\n",
        "# Plot metrics for BoW\n",
        "plot_metrics(axs[0], metrics_bow, 'BoW')\n",
        "\n",
        "# Plot metrics for TF-IDF\n",
        "plot_metrics(axs[1], metrics_tfidf, 'TF-IDF')\n",
        "\n",
        "plt.show()\n"
      ],
      "metadata": {
        "colab": {
          "base_uri": "https://localhost:8080/",
          "height": 565
        },
        "id": "_mvF4ATdgLgL",
        "outputId": "5ab6545b-638c-4d4f-c86b-32b92eac79b2"
      },
      "execution_count": null,
      "outputs": [
        {
          "output_type": "display_data",
          "data": {
            "text/plain": [
              "<Figure size 1500x600 with 2 Axes>"
            ],
            "image/png": "[encoded data removed]"
          },
          "metadata": {}
        }
      ]
    },
    {
      "cell_type": "markdown",
      "source": [
        "# Conclusion:\n",
        "\n",
        "\n",
        "TF-IDF is the better feature extraction method\n",
        "for this dataset. It slightly outperforms BoW, especially when used with the SVM and Naive Bayes classifiers.<br>\n",
        "\n",
        "<br>\n",
        "Support Vector Machine (SVM) emerges as the best-performing classifier, having the highest F1 Score, Precision, and Recall across both feature extraction methods (BoW and TF-IDF).\n",
        "<br>\n",
        "<br>To summarize, the most reliable and efficient approach for conducting sentiment analysis on the Gold News Dataset would be to employ TF-IDF as the feature extraction method and to use Support Vector Machine (SVM) as the classification algorithm.\n"
      ],
      "metadata": {
        "id": "Ag2Vxn7r3Tnv"
      }
    }
  ]
}